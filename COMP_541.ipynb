{
  "nbformat": 4,
  "nbformat_minor": 0,
  "metadata": {
    "colab": {
      "provenance": [],
      "authorship_tag": "ABX9TyNPw59sFXYJ6UOXu85K7wMZ",
      "include_colab_link": true
    },
    "kernelspec": {
      "name": "python3",
      "display_name": "Python 3"
    },
    "language_info": {
      "name": "python"
    }
  },
  "cells": [
    {
      "cell_type": "markdown",
      "metadata": {
        "id": "view-in-github",
        "colab_type": "text"
      },
      "source": [
        "<a href=\"https://colab.research.google.com/github/wooohun/BERT-Summarizer/blob/main/COMP_541.ipynb\" target=\"_parent\"><img src=\"https://colab.research.google.com/assets/colab-badge.svg\" alt=\"Open In Colab\"/></a>"
      ]
    },
    {
      "cell_type": "code",
      "execution_count": 10,
      "metadata": {
        "id": "ELJhuXiHTepv"
      },
      "outputs": [],
      "source": [
        "import datetime\n",
        "import json\n",
        "import os\n",
        "import pprint\n",
        "import random\n",
        "import string\n",
        "import sys\n",
        "import tensorflow as tf\n",
        "import pandas as pd"
      ]
    },
    {
      "cell_type": "code",
      "source": [
        "# install kaggle\n",
        "!pip install -q kaggle\n",
        "!mkdir ~/.kaggle\n",
        "\n",
        "# move kaggle api token to kaggle folder\n",
        "!cp -v kaggle.json ~/.kaggle"
      ],
      "metadata": {
        "colab": {
          "base_uri": "https://localhost:8080/"
        },
        "id": "NGBKo_zsBjxX",
        "outputId": "183052a3-4404-4322-9f42-b7400ecc858d"
      },
      "execution_count": 2,
      "outputs": [
        {
          "output_type": "stream",
          "name": "stdout",
          "text": [
            "mkdir: cannot create directory ‘/root/.kaggle’: File exists\n",
            "'kaggle.json' -> '/root/.kaggle/kaggle.json'\n"
          ]
        }
      ]
    },
    {
      "cell_type": "code",
      "source": [
        "# download dataset\n",
        "!kaggle datasets download -d gowrishankarp/newspaper-text-summarization-cnn-dailymail\n",
        "!unzip newspaper-text-summarization-cnn-dailymail"
      ],
      "metadata": {
        "colab": {
          "base_uri": "https://localhost:8080/"
        },
        "id": "8FKV7sbq-fxQ",
        "outputId": "fe60c0ca-e03a-4d19-fc20-224c46def19d"
      },
      "execution_count": 3,
      "outputs": [
        {
          "output_type": "stream",
          "name": "stdout",
          "text": [
            "Warning: Your Kaggle API key is readable by other users on this system! To fix this, you can run 'chmod 600 /root/.kaggle/kaggle.json'\n",
            "newspaper-text-summarization-cnn-dailymail.zip: Skipping, found more recently modified local copy (use --force to force download)\n",
            "Archive:  newspaper-text-summarization-cnn-dailymail.zip\n",
            "replace cnn_dailymail/test.csv? [y]es, [n]o, [A]ll, [N]one, [r]ename: "
          ]
        }
      ]
    },
    {
      "cell_type": "code",
      "source": [
        "!test -d bert_repo || git clone https://github.com/google-research/bert bert_repo\n",
        "if not 'bert_repo' in sys.path:\n",
        "  sys.path += ['bert_repo']"
      ],
      "metadata": {
        "id": "FsvZv1gFXh5A"
      },
      "execution_count": 4,
      "outputs": []
    },
    {
      "cell_type": "code",
      "source": [
        "# import python modules defined by BERT\n",
        "import modeling\n",
        "import optimization\n",
        "import run_classifier\n",
        "import run_classifier_with_tfhub\n",
        "import tokenization\n",
        "\n",
        "# import tfhub \n",
        "import tensorflow_hub as hub"
      ],
      "metadata": {
        "id": "uDVPAHd1Xn2k"
      },
      "execution_count": 5,
      "outputs": []
    },
    {
      "cell_type": "code",
      "source": [
        "BERT_MODEL = 'uncased_L-12_H-768_A-12' # uncased Base BERT model\n",
        "BERT_MODEL_HUB = 'https://tfhub.dev/google/bert_' + BERT_MODEL + '/1'"
      ],
      "metadata": {
        "id": "rug7oQLphXnH"
      },
      "execution_count": 6,
      "outputs": []
    },
    {
      "cell_type": "code",
      "source": [
        "tokenizer = run_classifier_with_tfhub.create_tokenizer_from_hub_module(BERT_MODEL_HUB)\n",
        "test_tokens = tokenizer.tokenize(\"This here's an example of using the BERT tokenizer\")\n",
        "test_token_ids = tokenizer.convert_tokens_to_ids(test_tokens)\n",
        "test_tokens"
      ],
      "metadata": {
        "colab": {
          "base_uri": "https://localhost:8080/"
        },
        "id": "04K0Jhlzl1U-",
        "outputId": "1ed9cd07-c810-4877-ee49-f533caeef366"
      },
      "execution_count": 21,
      "outputs": [
        {
          "output_type": "execute_result",
          "data": {
            "text/plain": [
              "['this',\n",
              " 'here',\n",
              " \"'\",\n",
              " 's',\n",
              " 'an',\n",
              " 'example',\n",
              " 'of',\n",
              " 'using',\n",
              " 'the',\n",
              " 'bert',\n",
              " 'token',\n",
              " '##izer']"
            ]
          },
          "metadata": {},
          "execution_count": 21
        }
      ]
    },
    {
      "cell_type": "code",
      "source": [
        "# transfer datasets to DataFrame\n",
        "\n",
        "test = pd.read_csv(\"cnn_dailymail/test.csv\")\n",
        "train = pd.read_csv(\"cnn_dailymail/train.csv\")\n",
        "validate = pd.read_csv(\"cnn_dailymail/validation.csv\")"
      ],
      "metadata": {
        "id": "UiQ1v3L5Gf0x"
      },
      "execution_count": 43,
      "outputs": []
    },
    {
      "cell_type": "code",
      "source": [
        "# tokenize articles, store in same row as article\n",
        "test['article_tokens'] = test['article'].map(lambda x: tokenizer.tokenize(x))"
      ],
      "metadata": {
        "id": "n0iEnrD-VKpp"
      },
      "execution_count": 44,
      "outputs": []
    },
    {
      "cell_type": "code",
      "source": [
        "# get lengths of article token list for filtering by # of tokens\n",
        "test['article_token_len'] = test['article_tokens'].map(lambda x: len(x))"
      ],
      "metadata": {
        "id": "YT3_VjOmY6ik"
      },
      "execution_count": 45,
      "outputs": []
    },
    {
      "cell_type": "code",
      "source": [
        "test"
      ],
      "metadata": {
        "colab": {
          "base_uri": "https://localhost:8080/",
          "height": 815
        },
        "id": "bdz4UKCMh9aO",
        "outputId": "8bd82125-0cab-47d6-e79a-b5237294c1c6"
      },
      "execution_count": 46,
      "outputs": [
        {
          "output_type": "execute_result",
          "data": {
            "text/plain": [
              "                                             id  \\\n",
              "0      92c514c913c0bdfe25341af9fd72b29db544099b   \n",
              "1      2003841c7dc0e7c5b1a248f9cd536d727f27a45a   \n",
              "2      91b7d2311527f5c2b63a65ca98d21d9c92485149   \n",
              "3      caabf9cbdf96eb1410295a673e953d304391bfbb   \n",
              "4      3da746a7d9afcaa659088c8366ef6347fe6b53ea   \n",
              "...                                         ...   \n",
              "11485  ed8674cc15b29a87d8df8de1efee353d71122272   \n",
              "11486  2f58d1a99e9c47914e4b1c31613e3a041cd9011e   \n",
              "11487  411f6d57825161c3a037b4742baccd6cd227c0c3   \n",
              "11488  b5683ef8342056b17b068e0d59bdbe87e3fe44ea   \n",
              "11489  a6a5491edb0c96c4391b6a8c4504416b3572b3a1   \n",
              "\n",
              "                                                 article  \\\n",
              "0      Ever noticed how plane seats appear to be gett...   \n",
              "1      A drunk teenage boy had to be rescued by secur...   \n",
              "2      Dougie Freedman is on the verge of agreeing a ...   \n",
              "3      Liverpool target Neto is also wanted by PSG an...   \n",
              "4      Bruce Jenner will break his silence in a two-h...   \n",
              "...                                                  ...   \n",
              "11485  Our young Earth may have collided with a body ...   \n",
              "11486  A man facing trial for helping his former love...   \n",
              "11487  A dozen or more metal implements are arranged ...   \n",
              "11488  Brook Lopez dominated twin brother Robin with ...   \n",
              "11489  A Chinese hospital is being painstakingly move...   \n",
              "\n",
              "                                              highlights  \\\n",
              "0      Experts question if  packed out planes are put...   \n",
              "1      Drunk teenage boy climbed into lion enclosure ...   \n",
              "2      Nottingham Forest are close to extending Dougi...   \n",
              "3      Fiorentina goalkeeper Neto has been linked wit...   \n",
              "4      Tell-all interview with the reality TV star, 6...   \n",
              "...                                                  ...   \n",
              "11485  Oxford scientists say a Mercury-like body stru...   \n",
              "11486  Man accused of helping former lover kill woman...   \n",
              "11487  Marianne Power tried the tuning fork facial at...   \n",
              "11488  Brooklyn Nets beat the Portland Trail Blazers ...   \n",
              "11489  Chinese hospital marked for demolition because...   \n",
              "\n",
              "                                          article_tokens  article_token_len  \n",
              "0      [ever, noticed, how, plane, seats, appear, to,...                430  \n",
              "1      [a, drunk, teenage, boy, had, to, be, rescued,...                388  \n",
              "2      [doug, ##ie, freed, ##man, is, on, the, verge,...                133  \n",
              "3      [liverpool, target, net, ##o, is, also, wanted...                397  \n",
              "4      [bruce, jen, ##ner, will, break, his, silence,...                970  \n",
              "...                                                  ...                ...  \n",
              "11485  [our, young, earth, may, have, collided, with,...                797  \n",
              "11486  [a, man, facing, trial, for, helping, his, for...                991  \n",
              "11487  [a, dozen, or, more, metal, implements, are, a...               1819  \n",
              "11488  [brook, lopez, dominated, twin, brother, robin...                232  \n",
              "11489  [a, chinese, hospital, is, being, pains, ##tak...                524  \n",
              "\n",
              "[11490 rows x 5 columns]"
            ],
            "text/html": [
              "\n",
              "  <div id=\"df-d3abe1ae-1b64-4f7b-a4a9-ff54bf434426\">\n",
              "    <div class=\"colab-df-container\">\n",
              "      <div>\n",
              "<style scoped>\n",
              "    .dataframe tbody tr th:only-of-type {\n",
              "        vertical-align: middle;\n",
              "    }\n",
              "\n",
              "    .dataframe tbody tr th {\n",
              "        vertical-align: top;\n",
              "    }\n",
              "\n",
              "    .dataframe thead th {\n",
              "        text-align: right;\n",
              "    }\n",
              "</style>\n",
              "<table border=\"1\" class=\"dataframe\">\n",
              "  <thead>\n",
              "    <tr style=\"text-align: right;\">\n",
              "      <th></th>\n",
              "      <th>id</th>\n",
              "      <th>article</th>\n",
              "      <th>highlights</th>\n",
              "      <th>article_tokens</th>\n",
              "      <th>article_token_len</th>\n",
              "    </tr>\n",
              "  </thead>\n",
              "  <tbody>\n",
              "    <tr>\n",
              "      <th>0</th>\n",
              "      <td>92c514c913c0bdfe25341af9fd72b29db544099b</td>\n",
              "      <td>Ever noticed how plane seats appear to be gett...</td>\n",
              "      <td>Experts question if  packed out planes are put...</td>\n",
              "      <td>[ever, noticed, how, plane, seats, appear, to,...</td>\n",
              "      <td>430</td>\n",
              "    </tr>\n",
              "    <tr>\n",
              "      <th>1</th>\n",
              "      <td>2003841c7dc0e7c5b1a248f9cd536d727f27a45a</td>\n",
              "      <td>A drunk teenage boy had to be rescued by secur...</td>\n",
              "      <td>Drunk teenage boy climbed into lion enclosure ...</td>\n",
              "      <td>[a, drunk, teenage, boy, had, to, be, rescued,...</td>\n",
              "      <td>388</td>\n",
              "    </tr>\n",
              "    <tr>\n",
              "      <th>2</th>\n",
              "      <td>91b7d2311527f5c2b63a65ca98d21d9c92485149</td>\n",
              "      <td>Dougie Freedman is on the verge of agreeing a ...</td>\n",
              "      <td>Nottingham Forest are close to extending Dougi...</td>\n",
              "      <td>[doug, ##ie, freed, ##man, is, on, the, verge,...</td>\n",
              "      <td>133</td>\n",
              "    </tr>\n",
              "    <tr>\n",
              "      <th>3</th>\n",
              "      <td>caabf9cbdf96eb1410295a673e953d304391bfbb</td>\n",
              "      <td>Liverpool target Neto is also wanted by PSG an...</td>\n",
              "      <td>Fiorentina goalkeeper Neto has been linked wit...</td>\n",
              "      <td>[liverpool, target, net, ##o, is, also, wanted...</td>\n",
              "      <td>397</td>\n",
              "    </tr>\n",
              "    <tr>\n",
              "      <th>4</th>\n",
              "      <td>3da746a7d9afcaa659088c8366ef6347fe6b53ea</td>\n",
              "      <td>Bruce Jenner will break his silence in a two-h...</td>\n",
              "      <td>Tell-all interview with the reality TV star, 6...</td>\n",
              "      <td>[bruce, jen, ##ner, will, break, his, silence,...</td>\n",
              "      <td>970</td>\n",
              "    </tr>\n",
              "    <tr>\n",
              "      <th>...</th>\n",
              "      <td>...</td>\n",
              "      <td>...</td>\n",
              "      <td>...</td>\n",
              "      <td>...</td>\n",
              "      <td>...</td>\n",
              "    </tr>\n",
              "    <tr>\n",
              "      <th>11485</th>\n",
              "      <td>ed8674cc15b29a87d8df8de1efee353d71122272</td>\n",
              "      <td>Our young Earth may have collided with a body ...</td>\n",
              "      <td>Oxford scientists say a Mercury-like body stru...</td>\n",
              "      <td>[our, young, earth, may, have, collided, with,...</td>\n",
              "      <td>797</td>\n",
              "    </tr>\n",
              "    <tr>\n",
              "      <th>11486</th>\n",
              "      <td>2f58d1a99e9c47914e4b1c31613e3a041cd9011e</td>\n",
              "      <td>A man facing trial for helping his former love...</td>\n",
              "      <td>Man accused of helping former lover kill woman...</td>\n",
              "      <td>[a, man, facing, trial, for, helping, his, for...</td>\n",
              "      <td>991</td>\n",
              "    </tr>\n",
              "    <tr>\n",
              "      <th>11487</th>\n",
              "      <td>411f6d57825161c3a037b4742baccd6cd227c0c3</td>\n",
              "      <td>A dozen or more metal implements are arranged ...</td>\n",
              "      <td>Marianne Power tried the tuning fork facial at...</td>\n",
              "      <td>[a, dozen, or, more, metal, implements, are, a...</td>\n",
              "      <td>1819</td>\n",
              "    </tr>\n",
              "    <tr>\n",
              "      <th>11488</th>\n",
              "      <td>b5683ef8342056b17b068e0d59bdbe87e3fe44ea</td>\n",
              "      <td>Brook Lopez dominated twin brother Robin with ...</td>\n",
              "      <td>Brooklyn Nets beat the Portland Trail Blazers ...</td>\n",
              "      <td>[brook, lopez, dominated, twin, brother, robin...</td>\n",
              "      <td>232</td>\n",
              "    </tr>\n",
              "    <tr>\n",
              "      <th>11489</th>\n",
              "      <td>a6a5491edb0c96c4391b6a8c4504416b3572b3a1</td>\n",
              "      <td>A Chinese hospital is being painstakingly move...</td>\n",
              "      <td>Chinese hospital marked for demolition because...</td>\n",
              "      <td>[a, chinese, hospital, is, being, pains, ##tak...</td>\n",
              "      <td>524</td>\n",
              "    </tr>\n",
              "  </tbody>\n",
              "</table>\n",
              "<p>11490 rows × 5 columns</p>\n",
              "</div>\n",
              "      <button class=\"colab-df-convert\" onclick=\"convertToInteractive('df-d3abe1ae-1b64-4f7b-a4a9-ff54bf434426')\"\n",
              "              title=\"Convert this dataframe to an interactive table.\"\n",
              "              style=\"display:none;\">\n",
              "        \n",
              "  <svg xmlns=\"http://www.w3.org/2000/svg\" height=\"24px\"viewBox=\"0 0 24 24\"\n",
              "       width=\"24px\">\n",
              "    <path d=\"M0 0h24v24H0V0z\" fill=\"none\"/>\n",
              "    <path d=\"M18.56 5.44l.94 2.06.94-2.06 2.06-.94-2.06-.94-.94-2.06-.94 2.06-2.06.94zm-11 1L8.5 8.5l.94-2.06 2.06-.94-2.06-.94L8.5 2.5l-.94 2.06-2.06.94zm10 10l.94 2.06.94-2.06 2.06-.94-2.06-.94-.94-2.06-.94 2.06-2.06.94z\"/><path d=\"M17.41 7.96l-1.37-1.37c-.4-.4-.92-.59-1.43-.59-.52 0-1.04.2-1.43.59L10.3 9.45l-7.72 7.72c-.78.78-.78 2.05 0 2.83L4 21.41c.39.39.9.59 1.41.59.51 0 1.02-.2 1.41-.59l7.78-7.78 2.81-2.81c.8-.78.8-2.07 0-2.86zM5.41 20L4 18.59l7.72-7.72 1.47 1.35L5.41 20z\"/>\n",
              "  </svg>\n",
              "      </button>\n",
              "      \n",
              "  <style>\n",
              "    .colab-df-container {\n",
              "      display:flex;\n",
              "      flex-wrap:wrap;\n",
              "      gap: 12px;\n",
              "    }\n",
              "\n",
              "    .colab-df-convert {\n",
              "      background-color: #E8F0FE;\n",
              "      border: none;\n",
              "      border-radius: 50%;\n",
              "      cursor: pointer;\n",
              "      display: none;\n",
              "      fill: #1967D2;\n",
              "      height: 32px;\n",
              "      padding: 0 0 0 0;\n",
              "      width: 32px;\n",
              "    }\n",
              "\n",
              "    .colab-df-convert:hover {\n",
              "      background-color: #E2EBFA;\n",
              "      box-shadow: 0px 1px 2px rgba(60, 64, 67, 0.3), 0px 1px 3px 1px rgba(60, 64, 67, 0.15);\n",
              "      fill: #174EA6;\n",
              "    }\n",
              "\n",
              "    [theme=dark] .colab-df-convert {\n",
              "      background-color: #3B4455;\n",
              "      fill: #D2E3FC;\n",
              "    }\n",
              "\n",
              "    [theme=dark] .colab-df-convert:hover {\n",
              "      background-color: #434B5C;\n",
              "      box-shadow: 0px 1px 3px 1px rgba(0, 0, 0, 0.15);\n",
              "      filter: drop-shadow(0px 1px 2px rgba(0, 0, 0, 0.3));\n",
              "      fill: #FFFFFF;\n",
              "    }\n",
              "  </style>\n",
              "\n",
              "      <script>\n",
              "        const buttonEl =\n",
              "          document.querySelector('#df-d3abe1ae-1b64-4f7b-a4a9-ff54bf434426 button.colab-df-convert');\n",
              "        buttonEl.style.display =\n",
              "          google.colab.kernel.accessAllowed ? 'block' : 'none';\n",
              "\n",
              "        async function convertToInteractive(key) {\n",
              "          const element = document.querySelector('#df-d3abe1ae-1b64-4f7b-a4a9-ff54bf434426');\n",
              "          const dataTable =\n",
              "            await google.colab.kernel.invokeFunction('convertToInteractive',\n",
              "                                                     [key], {});\n",
              "          if (!dataTable) return;\n",
              "\n",
              "          const docLinkHtml = 'Like what you see? Visit the ' +\n",
              "            '<a target=\"_blank\" href=https://colab.research.google.com/notebooks/data_table.ipynb>data table notebook</a>'\n",
              "            + ' to learn more about interactive tables.';\n",
              "          element.innerHTML = '';\n",
              "          dataTable['output_type'] = 'display_data';\n",
              "          await google.colab.output.renderOutput(dataTable, element);\n",
              "          const docLink = document.createElement('div');\n",
              "          docLink.innerHTML = docLinkHtml;\n",
              "          element.appendChild(docLink);\n",
              "        }\n",
              "      </script>\n",
              "    </div>\n",
              "  </div>\n",
              "  "
            ]
          },
          "metadata": {},
          "execution_count": 46
        }
      ]
    },
    {
      "cell_type": "code",
      "source": [],
      "metadata": {
        "id": "VdkH44R7lK8R"
      },
      "execution_count": null,
      "outputs": []
    }
  ]
}